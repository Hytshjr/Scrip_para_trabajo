{
 "cells": [
  {
   "cell_type": "code",
   "execution_count": 1,
   "metadata": {
    "execution": {
     "iopub.execute_input": "2023-06-05T15:39:11.165694Z",
     "iopub.status.busy": "2023-06-05T15:39:11.165469Z",
     "iopub.status.idle": "2023-06-05T15:39:11.192820Z",
     "shell.execute_reply": "2023-06-05T15:39:11.192480Z"
    }
   },
   "outputs": [],
   "source": [
    "from selenium import webdriver\n",
    "from selenium.webdriver.common.keys import Keys\n",
    "from selenium.webdriver.common.by import By\n",
    "\n",
    "# path = '/home/hytsh/drivers_chrome/chromedriver'\n",
    "\n",
    "# drive = webdriver.Chrome(executable_path=path)\n",
    "# drive.maximize_window()\n",
    "# drive.implicitly_wait(8)"
   ]
  },
  {
   "cell_type": "code",
   "execution_count": 3,
   "metadata": {
    "execution": {
     "iopub.execute_input": "2023-06-05T15:39:12.134824Z",
     "iopub.status.busy": "2023-06-05T15:39:12.134594Z",
     "iopub.status.idle": "2023-06-05T15:39:12.138515Z",
     "shell.execute_reply": "2023-06-05T15:39:12.137647Z"
    }
   },
   "outputs": [],
   "source": [
    "def navegador(path='drivers_chrome/chromedriver'):\n",
    "\n",
    "    from selenium import webdriver\n",
    "    from selenium.webdriver.chrome.service import Service\n",
    "    from selenium.webdriver.chrome.options import Options\n",
    "\n",
    "\n",
    "     # Ruta al controlador de Chrome\n",
    "    path = 'drivers_chrome/chromedriver'\n",
    "\n",
    "    # Opciones del navegador Chrome\n",
    "    options = Options()\n",
    "    # options.add_argument(\"--start-maximized\")  # Iniciar maximizado (opcional)\n",
    "\n",
    "    # Inicializar el servicio del controlador\n",
    "    service = Service(path)\n",
    "\n",
    "    # Inicializar el driver de Chrome\n",
    "    driver = webdriver.Chrome(service=service, options=options)\n",
    "\n",
    "    driver.maximize_window()\n",
    "\n",
    "    return driver\n"
   ]
  },
  {
   "cell_type": "code",
   "execution_count": 4,
   "metadata": {
    "execution": {
     "iopub.execute_input": "2023-06-05T15:39:12.141087Z",
     "iopub.status.busy": "2023-06-05T15:39:12.140882Z",
     "iopub.status.idle": "2023-06-05T15:39:12.143682Z",
     "shell.execute_reply": "2023-06-05T15:39:12.143372Z"
    }
   },
   "outputs": [],
   "source": [
    "drive = navegador()\n",
    "drive.get('https://www.facebook.com/')"
   ]
  }
 ],
 "metadata": {
  "kernelspec": {
   "display_name": "test",
   "language": "python",
   "name": "python3"
  },
  "language_info": {
   "codemirror_mode": {
    "name": "ipython",
    "version": 3
   },
   "file_extension": ".py",
   "mimetype": "text/x-python",
   "name": "python",
   "nbconvert_exporter": "python",
   "pygments_lexer": "ipython3",
   "version": "3.11.3"
  }
 },
 "nbformat": 4,
 "nbformat_minor": 2
}
